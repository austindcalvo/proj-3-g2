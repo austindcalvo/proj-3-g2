{
 "cells": [
  {
   "cell_type": "code",
   "execution_count": 1,
   "id": "77dfb878",
   "metadata": {},
   "outputs": [],
   "source": [
    "import csv, json\n",
    "from geojson import Feature, FeatureCollection, Point\n",
    "\n"
   ]
  },
  {
   "cell_type": "code",
   "execution_count": 2,
   "id": "db8a698f",
   "metadata": {},
   "outputs": [],
   "source": [
    "# features = []\n",
    "# with open('Data/final_map_data.csv', newline='') as csvfile:\n",
    "#     reader = csv.reader(csvfile, delimiter=',')\n",
    "#     for year, office, party_simple, mode, votes, countyname, countyfips, canadidatename, state_abbv, statefips, combinedfips, name, lng, lat in reader:\n",
    "#         lat, lng = map(float, (latitude, longitude))\n",
    "#         features.append(\n",
    "#             Feature(\n",
    "#                 geometry = Point((longitude, latitude)),\n",
    "#                 properties = {\n",
    "#                     'year': year,\n",
    "#                     'temp': temp,\n",
    "#                     'party_simple': party_simple,\n",
    "#                     'mode': mode,\n",
    "#                     'votes': votes,\n",
    "#                     'countyname': countyname, \n",
    "#                     'countyfips': countyfips, \n",
    "#                     'canadidatename': candidatename,\n",
    "#                     'state_abbv': state_abbv,\n",
    "#                     'statefips': statefips, \n",
    "#                     'combinedfips': combinedfips, \n",
    "#                     'name': name,\n",
    "#                     'lng': lng,\n",
    "#                     'lat': lat\n",
    "#                 }\n",
    "#             )\n",
    "#         )\n",
    "\n",
    "# collection = FeatureCollection(features)\n",
    "# with open(\"GeoObs.json\", \"w\") as f:\n",
    "#     f.write('%s' % collection)"
   ]
  },
  {
   "cell_type": "code",
   "execution_count": 3,
   "id": "872ee753",
   "metadata": {},
   "outputs": [],
   "source": [
    "\n",
    " \n",
    "# Function to convert a CSV to JSON\n",
    "# Takes the file paths as arguments\n",
    "def make_json(csvFilePath, jsonFilePath):\n",
    "     \n",
    "    # create a dictionary\n",
    "    data = {}\n",
    "     \n",
    "    # Open a csv reader called DictReader\n",
    "    with open(csvFilePath, encoding='utf-8') as csvf:\n",
    "        csvReader = csv.DictReader(csvf)\n",
    "         \n",
    "        # Convert each row into a dictionary\n",
    "        # and add it to data\n",
    "        for rows in csvReader:\n",
    "             \n",
    "            # Assuming a column named 'No' to\n",
    "            # be the primary key\n",
    "            primarykey = rows['primarykey']\n",
    "            countyfips = rows['countyfips']\n",
    "            data[countyfips] = rows\n",
    "            votes = rows['votes']\n",
    "            data[votes] = rows\n",
    "            \n",
    "            \n",
    "            \n",
    " \n",
    "    # Open a json writer, and use the json.dumps()\n",
    "    # function to dump data\n",
    "    with open(jsonFilePath, 'w', encoding='utf-8') as jsonf:\n",
    "        jsonf.write(json.dumps(data, indent=4))\n",
    "         \n",
    "# Driver Code\n",
    " \n",
    "# computer system\n",
    "csvFilePath = r'Data/map_data_noprimary.csv'\n",
    "jsonFilePath = r'Data/final_map_data_w_key.json'\n",
    " \n",
    "# Call the make_json function\n",
    "make_json(csvFilePath, jsonFilePath)"
   ]
  },
  {
   "cell_type": "code",
   "execution_count": null,
   "id": "d7105822",
   "metadata": {},
   "outputs": [],
   "source": []
  }
 ],
 "metadata": {
  "kernelspec": {
   "display_name": "Python 3 (ipykernel)",
   "language": "python",
   "name": "python3"
  },
  "language_info": {
   "codemirror_mode": {
    "name": "ipython",
    "version": 3
   },
   "file_extension": ".py",
   "mimetype": "text/x-python",
   "name": "python",
   "nbconvert_exporter": "python",
   "pygments_lexer": "ipython3",
   "version": "3.9.12"
  }
 },
 "nbformat": 4,
 "nbformat_minor": 5
}
