{
 "cells": [
  {
   "cell_type": "code",
   "execution_count": 1,
   "id": "183981e6",
   "metadata": {},
   "outputs": [],
   "source": [
    "import csv, json\n",
    "from geojson import Feature, FeatureCollection, Point\n",
    "\n"
   ]
  },
  {
   "cell_type": "code",
   "execution_count": 2,
   "id": "fdffe1e4",
   "metadata": {},
   "outputs": [
    {
     "ename": "ValueError",
     "evalue": "too many values to unpack (expected 14)",
     "output_type": "error",
     "traceback": [
      "\u001b[1;31m---------------------------------------------------------------------------\u001b[0m",
      "\u001b[1;31mValueError\u001b[0m                                Traceback (most recent call last)",
      "\u001b[1;32m~\\AppData\\Local\\Temp\\ipykernel_20536\\3246236339.py\u001b[0m in \u001b[0;36m<module>\u001b[1;34m\u001b[0m\n\u001b[0;32m      2\u001b[0m \u001b[1;32mwith\u001b[0m \u001b[0mopen\u001b[0m\u001b[1;33m(\u001b[0m\u001b[1;34m'Data/final_map_data.csv'\u001b[0m\u001b[1;33m,\u001b[0m \u001b[0mnewline\u001b[0m\u001b[1;33m=\u001b[0m\u001b[1;34m''\u001b[0m\u001b[1;33m)\u001b[0m \u001b[1;32mas\u001b[0m \u001b[0mcsvfile\u001b[0m\u001b[1;33m:\u001b[0m\u001b[1;33m\u001b[0m\u001b[1;33m\u001b[0m\u001b[0m\n\u001b[0;32m      3\u001b[0m     \u001b[0mreader\u001b[0m \u001b[1;33m=\u001b[0m \u001b[0mcsv\u001b[0m\u001b[1;33m.\u001b[0m\u001b[0mreader\u001b[0m\u001b[1;33m(\u001b[0m\u001b[0mcsvfile\u001b[0m\u001b[1;33m,\u001b[0m \u001b[0mdelimiter\u001b[0m\u001b[1;33m=\u001b[0m\u001b[1;34m','\u001b[0m\u001b[1;33m)\u001b[0m\u001b[1;33m\u001b[0m\u001b[1;33m\u001b[0m\u001b[0m\n\u001b[1;32m----> 4\u001b[1;33m     \u001b[1;32mfor\u001b[0m \u001b[0myear\u001b[0m\u001b[1;33m,\u001b[0m \u001b[0moffice\u001b[0m\u001b[1;33m,\u001b[0m \u001b[0mparty_simple\u001b[0m\u001b[1;33m,\u001b[0m \u001b[0mmode\u001b[0m\u001b[1;33m,\u001b[0m \u001b[0mvotes\u001b[0m\u001b[1;33m,\u001b[0m \u001b[0mcountyname\u001b[0m\u001b[1;33m,\u001b[0m \u001b[0mcountyfips\u001b[0m\u001b[1;33m,\u001b[0m \u001b[0mcanadidatename\u001b[0m\u001b[1;33m,\u001b[0m \u001b[0mstate_abbv\u001b[0m\u001b[1;33m,\u001b[0m \u001b[0mstatefips\u001b[0m\u001b[1;33m,\u001b[0m \u001b[0mcombinedfips\u001b[0m\u001b[1;33m,\u001b[0m \u001b[0mname\u001b[0m\u001b[1;33m,\u001b[0m \u001b[0mlng\u001b[0m\u001b[1;33m,\u001b[0m \u001b[0mlat\u001b[0m \u001b[1;32min\u001b[0m \u001b[0mreader\u001b[0m\u001b[1;33m:\u001b[0m\u001b[1;33m\u001b[0m\u001b[1;33m\u001b[0m\u001b[0m\n\u001b[0m\u001b[0;32m      5\u001b[0m         \u001b[0mlat\u001b[0m\u001b[1;33m,\u001b[0m \u001b[0mlng\u001b[0m \u001b[1;33m=\u001b[0m \u001b[0mmap\u001b[0m\u001b[1;33m(\u001b[0m\u001b[0mfloat\u001b[0m\u001b[1;33m,\u001b[0m \u001b[1;33m(\u001b[0m\u001b[0mlatitude\u001b[0m\u001b[1;33m,\u001b[0m \u001b[0mlongitude\u001b[0m\u001b[1;33m)\u001b[0m\u001b[1;33m)\u001b[0m\u001b[1;33m\u001b[0m\u001b[1;33m\u001b[0m\u001b[0m\n\u001b[0;32m      6\u001b[0m         features.append(\n",
      "\u001b[1;31mValueError\u001b[0m: too many values to unpack (expected 14)"
     ]
    }
   ],
   "source": [
    "features = []\n",
    "with open('Data/final_map_data.csv', newline='') as csvfile:\n",
    "    reader = csv.reader(csvfile, delimiter=',')\n",
    "    for year, office, party_simple, mode, votes, countyname, countyfips, canadidatename, state_abbv, statefips, combinedfips, name, lng, lat in reader:\n",
    "        lat, lng = map(float, (latitude, longitude))\n",
    "        features.append(\n",
    "            Feature(\n",
    "                geometry = Point((longitude, latitude)),\n",
    "                properties = {\n",
    "                    'year': year,\n",
    "                    'temp': temp,\n",
    "                    'party_simple': party_simple,\n",
    "                    'mode': mode,\n",
    "                    'votes': votes,\n",
    "                    'countyname': countyname, \n",
    "                    'countyfips': countyfips, \n",
    "                    'canadidatename': candidatename,\n",
    "                    'state_abbv': state_abbv,\n",
    "                    'statefips': statefips, \n",
    "                    'combinedfips': combinedfips, \n",
    "                    'name': name,\n",
    "                    'lng': lng,\n",
    "                    'lat': lat\n",
    "                }\n",
    "            )\n",
    "        )\n",
    "\n",
    "collection = FeatureCollection(features)\n",
    "with open(\"GeoObs.json\", \"w\") as f:\n",
    "    f.write('%s' % collection)"
   ]
  }
 ],
 "metadata": {
  "kernelspec": {
   "display_name": "pythonData",
   "language": "python",
   "name": "pythondata"
  },
  "language_info": {
   "codemirror_mode": {
    "name": "ipython",
    "version": 3
   },
   "file_extension": ".py",
   "mimetype": "text/x-python",
   "name": "python",
   "nbconvert_exporter": "python",
   "pygments_lexer": "ipython3",
   "version": "3.7.7"
  }
 },
 "nbformat": 4,
 "nbformat_minor": 5
}
