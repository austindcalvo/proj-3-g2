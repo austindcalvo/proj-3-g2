{
 "cells": [
  {
   "cell_type": "code",
   "execution_count": 1,
   "id": "499bf3a9",
   "metadata": {},
   "outputs": [],
   "source": [
    "#Dependencies\n",
    "import pandas as pd\n",
    "import numpy as np\n",
    "import os\n",
    "\n",
    "\n",
    "#Files\n",
    "elec16_file = \"Data/pres2016.csv\"\n",
    "elec20_file = \"Data/pres2020.csv\"\n",
    "\n",
    "#Read Data\n",
    "elec20_data = pd.read_csv(elec20_file, low_memory=False)\n",
    "elec16_data = pd.read_csv(elec16_file, low_memory=False)"
   ]
  },
  {
   "cell_type": "code",
   "execution_count": 3,
   "id": "018df63c",
   "metadata": {},
   "outputs": [
    {
     "data": {
      "text/plain": [
       "Index(['year', 'office', 'party_detail', 'party_simple', 'mode', 'votes',\n",
       "       'countyname', 'countyfips', 'candidatename', 'stage', 'writein',\n",
       "       'state_abbv', 'statefips'],\n",
       "      dtype='object')"
      ]
     },
     "execution_count": 3,
     "metadata": {},
     "output_type": "execute_result"
    }
   ],
   "source": [
    "elec20_data.columns"
   ]
  },
  {
   "cell_type": "code",
   "execution_count": null,
   "id": "5968133c",
   "metadata": {},
   "outputs": [],
   "source": [
    "elec20_trimmed = elec20_data [['year',\n",
    "                               \"office\", \n",
    "                             \"party_simple\",\n",
    "                             \"mode\",\n",
    "                             \"votes\", \n",
    "                             'countyname',\n",
    "                             'countyfips', \n",
    "                             'candidatename',\n",
    "                               'state_abbv',\n",
    "                               'statefips',\n",
    "                              ]]"
   ]
  },
  {
   "cell_type": "code",
   "execution_count": null,
   "id": "bf566112",
   "metadata": {},
   "outputs": [],
   "source": [
    "elec20_trimmed['mode'].unique()"
   ]
  },
  {
   "cell_type": "code",
   "execution_count": null,
   "id": "4ffc6ebb",
   "metadata": {},
   "outputs": [],
   "source": [
    "elec20_trimmed2 = elec20_trimmed[(elec20_trimmed.party_simple == 'REPUBLICAN') | (elec20_trimmed.party_simple == 'DEMOCRAT')]"
   ]
  },
  {
   "cell_type": "code",
   "execution_count": null,
   "id": "bc7d3e96",
   "metadata": {},
   "outputs": [],
   "source": [
    "#office_field = elec20_trimmed['office']\n",
    "elec20_trimmed2.to_csv('elec20v2.csv', index=False)"
   ]
  },
  {
   "cell_type": "code",
   "execution_count": 4,
   "id": "84699ab0",
   "metadata": {},
   "outputs": [
    {
     "data": {
      "text/plain": [
       "Index(['year', 'stage', 'special', 'statename', 'state_abbv', 'statefips',\n",
       "       'stateicpsr', 'countyname', 'countyfips', 'countyansi', 'county_lat',\n",
       "       'county_long', 'jurisdiction', 'precinct', 'candidatename',\n",
       "       'candidatenormal', 'office', 'district', 'writein', 'party', 'mode',\n",
       "       'votes', 'opensecrets', 'wikidata', 'can_party', 'can_last',\n",
       "       'can_first', 'can_middle', 'can_full', 'can_suff', 'can_nick',\n",
       "       'can_fec', 'can_fec_name', 'can_google', 'can_govtrack', 'can_icpsr',\n",
       "       'can_maplight'],\n",
       "      dtype='object')"
      ]
     },
     "execution_count": 4,
     "metadata": {},
     "output_type": "execute_result"
    }
   ],
   "source": [
    "elec16_data.columns"
   ]
  },
  {
   "cell_type": "code",
   "execution_count": 12,
   "id": "8df69517",
   "metadata": {},
   "outputs": [],
   "source": [
    "elec16_trimmed = elec16_data [['year',\n",
    "                               \"office\", \n",
    "                             \"party\",\n",
    "                             \"mode\",\n",
    "                             \"votes\", \n",
    "                             'countyname',\n",
    "                             'countyfips', \n",
    "                             'candidatename',\n",
    "                               'state_abbv',\n",
    "                               'statefips',\n",
    "                              ]]"
   ]
  },
  {
   "cell_type": "code",
   "execution_count": 13,
   "id": "6f43d1f6",
   "metadata": {},
   "outputs": [
    {
     "data": {
      "text/plain": [
       "array(['democratic', 'independent', 'republican', nan, 'green',\n",
       "       \"people's party\", 'constitution', 'new alliance', 'libertarian',\n",
       "       'better for america', 'Peace and Freedom', 'american delta',\n",
       "       'socialism and liberation', 'prohibition', 'approval voting',\n",
       "       'none / libertarian', 'socialist workers',\n",
       "       'kotlikoff for president', 'american solidarity',\n",
       "       'none / republican', \"america's party\", 'nutrition',\n",
       "       'green / democratic', 'independent american',\n",
       "       'veterans party of america', 'independent people of colorado',\n",
       "       'socialist party usa', 'nonviolent resistance/pacifist',\n",
       "       'dc statehood green', 'reform', 'nonpartisan',\n",
       "       'nominated by petition', 'iowa green',\n",
       "       'party for socialism and liberation', 'legal marijuana now',\n",
       "       'new independent party iowa', 'Constitution Party',\n",
       "       'Courage Character Service', 'Socialism and Liberation',\n",
       "       'Socialism Equality Anti-War', \"It's Our Children\",\n",
       "       'Socialist Workers Party', 'Life, Family, Constitution',\n",
       "       'Veterans Party', 'Loyal Trustworthy Compassion', 'unenrolled',\n",
       "       \"it's our children\", 'other party', 'unaffiliated', 'other', 'BOT',\n",
       "       'green-rainbow', 'us taxpayers', 'natural law party',\n",
       "       'Democratic-Farmer-Labor', 'Independence', 'Socialist Workers',\n",
       "       'Legal Marijuana Now', 'american delta party', 'none',\n",
       "       'workers world', 'ssp', \"women's equality\", 'working families',\n",
       "       'independence', 'conservative', 'non-partisan', 'democrat',\n",
       "       'pacific green, progressive', 'American Delta',\n",
       "       'american party of south carolina', 'Socialism & Liberation',\n",
       "       'LPN', 'GPN', 'RPN', 'SPN', 'SWN', 'CPN', 'DPN', 'mountain'],\n",
       "      dtype=object)"
      ]
     },
     "execution_count": 13,
     "metadata": {},
     "output_type": "execute_result"
    }
   ],
   "source": [
    "elec16_trimmed['party'].unique()"
   ]
  },
  {
   "cell_type": "code",
   "execution_count": 15,
   "id": "9e9c7e6e",
   "metadata": {},
   "outputs": [],
   "source": [
    "elec16_trimmed2 = elec16_trimmed[(elec16_trimmed.party == 'republican') | (elec16_trimmed.party == 'democrat')| (elec16_trimmed.party == 'democratic')]"
   ]
  },
  {
   "cell_type": "code",
   "execution_count": 16,
   "id": "78483699",
   "metadata": {},
   "outputs": [],
   "source": [
    "#office_field = elec20_trimmed['office']\n",
    "elec16_trimmed2.to_csv('elec16v2.csv', index=False)"
   ]
  },
  {
   "cell_type": "code",
   "execution_count": null,
   "id": "ae6ed44f",
   "metadata": {},
   "outputs": [],
   "source": []
  }
 ],
 "metadata": {
  "kernelspec": {
   "display_name": "Python 3 (ipykernel)",
   "language": "python",
   "name": "python3"
  },
  "language_info": {
   "codemirror_mode": {
    "name": "ipython",
    "version": 3
   },
   "file_extension": ".py",
   "mimetype": "text/x-python",
   "name": "python",
   "nbconvert_exporter": "python",
   "pygments_lexer": "ipython3",
   "version": "3.9.12"
  }
 },
 "nbformat": 4,
 "nbformat_minor": 5
}
