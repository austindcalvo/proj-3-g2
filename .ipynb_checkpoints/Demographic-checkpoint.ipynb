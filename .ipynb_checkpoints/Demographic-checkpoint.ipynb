{
 "cells": [
  {
   "cell_type": "code",
   "execution_count": 16,
   "id": "6c25760b",
   "metadata": {},
   "outputs": [],
   "source": [
    "import pandas as pd\n",
    "import numpy as np\n",
    "import os\n",
    "import csv\n",
    "\n",
    "dataset_1= (\"electiondata.csv\")\n",
    "elect2016 = pd.read_csv(dataset_1, low_memory=False)\n"
   ]
  },
  {
   "cell_type": "code",
   "execution_count": 17,
   "id": "94f4699a",
   "metadata": {},
   "outputs": [
    {
     "data": {
      "text/plain": [
       "Index(['id', 'state', 'party', 'ethnicity', 'gender', 'age'], dtype='object')"
      ]
     },
     "execution_count": 17,
     "metadata": {},
     "output_type": "execute_result"
    }
   ],
   "source": [
    "elect2016.columns"
   ]
  },
  {
   "cell_type": "code",
   "execution_count": 18,
   "id": "de7851dd",
   "metadata": {},
   "outputs": [
    {
     "data": {
      "text/html": [
       "<div>\n",
       "<style scoped>\n",
       "    .dataframe tbody tr th:only-of-type {\n",
       "        vertical-align: middle;\n",
       "    }\n",
       "\n",
       "    .dataframe tbody tr th {\n",
       "        vertical-align: top;\n",
       "    }\n",
       "\n",
       "    .dataframe thead th {\n",
       "        text-align: right;\n",
       "    }\n",
       "</style>\n",
       "<table border=\"1\" class=\"dataframe\">\n",
       "  <thead>\n",
       "    <tr style=\"text-align: right;\">\n",
       "      <th></th>\n",
       "      <th>id</th>\n",
       "      <th>state</th>\n",
       "      <th>party</th>\n",
       "      <th>ethnicity</th>\n",
       "      <th>gender</th>\n",
       "      <th>age</th>\n",
       "    </tr>\n",
       "  </thead>\n",
       "  <tbody>\n",
       "    <tr>\n",
       "      <th>0</th>\n",
       "      <td>0</td>\n",
       "      <td>Tennessee</td>\n",
       "      <td>Republican</td>\n",
       "      <td>white</td>\n",
       "      <td>female</td>\n",
       "      <td>54</td>\n",
       "    </tr>\n",
       "    <tr>\n",
       "      <th>1</th>\n",
       "      <td>1</td>\n",
       "      <td>Georgia</td>\n",
       "      <td>Republican</td>\n",
       "      <td>white</td>\n",
       "      <td>female</td>\n",
       "      <td>63</td>\n",
       "    </tr>\n",
       "    <tr>\n",
       "      <th>2</th>\n",
       "      <td>2</td>\n",
       "      <td>Idaho</td>\n",
       "      <td>Republican</td>\n",
       "      <td>asian</td>\n",
       "      <td>female</td>\n",
       "      <td>59</td>\n",
       "    </tr>\n",
       "    <tr>\n",
       "      <th>3</th>\n",
       "      <td>3</td>\n",
       "      <td>Wisconsin</td>\n",
       "      <td>Republican</td>\n",
       "      <td>black</td>\n",
       "      <td>female</td>\n",
       "      <td>69</td>\n",
       "    </tr>\n",
       "    <tr>\n",
       "      <th>4</th>\n",
       "      <td>4</td>\n",
       "      <td>West Virginia</td>\n",
       "      <td>Democratic</td>\n",
       "      <td>black</td>\n",
       "      <td>male</td>\n",
       "      <td>52</td>\n",
       "    </tr>\n",
       "    <tr>\n",
       "      <th>...</th>\n",
       "      <td>...</td>\n",
       "      <td>...</td>\n",
       "      <td>...</td>\n",
       "      <td>...</td>\n",
       "      <td>...</td>\n",
       "      <td>...</td>\n",
       "    </tr>\n",
       "    <tr>\n",
       "      <th>2024995</th>\n",
       "      <td>2024995</td>\n",
       "      <td>New Mexico</td>\n",
       "      <td>Other</td>\n",
       "      <td>white</td>\n",
       "      <td>male</td>\n",
       "      <td>71</td>\n",
       "    </tr>\n",
       "    <tr>\n",
       "      <th>2024996</th>\n",
       "      <td>2024996</td>\n",
       "      <td>Nevada</td>\n",
       "      <td>Democratic</td>\n",
       "      <td>white</td>\n",
       "      <td>male</td>\n",
       "      <td>20</td>\n",
       "    </tr>\n",
       "    <tr>\n",
       "      <th>2024997</th>\n",
       "      <td>2024997</td>\n",
       "      <td>California</td>\n",
       "      <td>Independent</td>\n",
       "      <td>white</td>\n",
       "      <td>female</td>\n",
       "      <td>69</td>\n",
       "    </tr>\n",
       "    <tr>\n",
       "      <th>2024998</th>\n",
       "      <td>2024998</td>\n",
       "      <td>Nebraska</td>\n",
       "      <td>Republican</td>\n",
       "      <td>white</td>\n",
       "      <td>female</td>\n",
       "      <td>54</td>\n",
       "    </tr>\n",
       "    <tr>\n",
       "      <th>2024999</th>\n",
       "      <td>2024999</td>\n",
       "      <td>Maine</td>\n",
       "      <td>Republican</td>\n",
       "      <td>hispanic</td>\n",
       "      <td>female</td>\n",
       "      <td>76</td>\n",
       "    </tr>\n",
       "  </tbody>\n",
       "</table>\n",
       "<p>2025000 rows × 6 columns</p>\n",
       "</div>"
      ],
      "text/plain": [
       "              id          state        party ethnicity  gender  age\n",
       "0              0      Tennessee   Republican     white  female   54\n",
       "1              1        Georgia   Republican     white  female   63\n",
       "2              2          Idaho   Republican     asian  female   59\n",
       "3              3      Wisconsin   Republican     black  female   69\n",
       "4              4  West Virginia   Democratic     black    male   52\n",
       "...          ...            ...          ...       ...     ...  ...\n",
       "2024995  2024995     New Mexico        Other     white    male   71\n",
       "2024996  2024996         Nevada   Democratic     white    male   20\n",
       "2024997  2024997     California  Independent     white  female   69\n",
       "2024998  2024998       Nebraska   Republican     white  female   54\n",
       "2024999  2024999          Maine   Republican  hispanic  female   76\n",
       "\n",
       "[2025000 rows x 6 columns]"
      ]
     },
     "execution_count": 18,
     "metadata": {},
     "output_type": "execute_result"
    }
   ],
   "source": [
    "elect2016"
   ]
  },
  {
   "cell_type": "code",
   "execution_count": 19,
   "id": "7c5084d3",
   "metadata": {},
   "outputs": [
    {
     "data": {
      "text/plain": [
       "array(['Republican', 'Democratic', 'Other', 'Libertarian', 'Green',\n",
       "       'Independent', 'Constitution'], dtype=object)"
      ]
     },
     "execution_count": 19,
     "metadata": {},
     "output_type": "execute_result"
    }
   ],
   "source": [
    "elect2016['party'].unique()"
   ]
  },
  {
   "cell_type": "code",
   "execution_count": 22,
   "id": "82a1ce00",
   "metadata": {},
   "outputs": [],
   "source": [
    "elect2016 = elect2016[(elect2016.party == 'Republican') | (elect2016.party == 'Democratic')]"
   ]
  },
  {
   "cell_type": "code",
   "execution_count": 24,
   "id": "700b8df6",
   "metadata": {},
   "outputs": [],
   "source": [
    "elect2016.to_csv('electiondata.csv.csv', index=False)"
   ]
  },
  {
   "cell_type": "code",
   "execution_count": null,
   "id": "f4bfad67",
   "metadata": {},
   "outputs": [],
   "source": []
  }
 ],
 "metadata": {
  "kernelspec": {
   "display_name": "Python 3 (ipykernel)",
   "language": "python",
   "name": "python3"
  },
  "language_info": {
   "codemirror_mode": {
    "name": "ipython",
    "version": 3
   },
   "file_extension": ".py",
   "mimetype": "text/x-python",
   "name": "python",
   "nbconvert_exporter": "python",
   "pygments_lexer": "ipython3",
   "version": "3.9.12"
  }
 },
 "nbformat": 4,
 "nbformat_minor": 5
}
